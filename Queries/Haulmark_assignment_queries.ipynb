{
 "cells": [
  {
   "cell_type": "markdown",
   "metadata": {},
   "source": [
    "**Database queries documentation will be included prior to each query**\n"
   ]
  },
  {
   "cell_type": "code",
   "execution_count": 1,
   "metadata": {},
   "outputs": [
    {
     "name": "stdout",
     "output_type": "stream",
     "text": [
      "Requirement already satisfied: sqlalchemy in c:\\users\\haulmark\\appdata\\local\\programs\\python\\python311\\lib\\site-packages (2.0.35)\n",
      "Requirement already satisfied: typing-extensions>=4.6.0 in c:\\users\\haulmark\\appdata\\local\\programs\\python\\python311\\lib\\site-packages (from sqlalchemy) (4.8.0)\n",
      "Requirement already satisfied: greenlet!=0.4.17 in c:\\users\\haulmark\\appdata\\local\\programs\\python\\python311\\lib\\site-packages (from sqlalchemy) (3.1.1)\n"
     ]
    },
    {
     "name": "stderr",
     "output_type": "stream",
     "text": [
      "\n",
      "[notice] A new release of pip is available: 23.3.1 -> 24.2\n",
      "[notice] To update, run: python.exe -m pip install --upgrade pip\n"
     ]
    }
   ],
   "source": [
    "!pip install sqlalchemy"
   ]
  },
  {
   "cell_type": "code",
   "execution_count": 2,
   "metadata": {},
   "outputs": [
    {
     "name": "stderr",
     "output_type": "stream",
     "text": [
      "C:\\Users\\haulmark\\AppData\\Local\\Temp\\ipykernel_24548\\1344665909.py:7: MovedIn20Warning: The ``declarative_base()`` function is now available as sqlalchemy.orm.declarative_base(). (deprecated since: 2.0) (Background on SQLAlchemy 2.0 at: https://sqlalche.me/e/b8d9)\n",
      "  Base = declarative_base()\n"
     ]
    }
   ],
   "source": [
    "from sqlalchemy import Column, Integer, String, ForeignKey, create_engine, Date, Float\n",
    "from sqlalchemy.orm import sessionmaker\n",
    "from sqlalchemy.ext.declarative import declarative_base\n",
    "from sqlalchemy import Column, Integer, String, ForeignKey, create_engine, Date, Float, func\n",
    "\n",
    "\n",
    "Base = declarative_base()\n",
    "\n"
   ]
  },
  {
   "cell_type": "code",
   "execution_count": 3,
   "metadata": {},
   "outputs": [
    {
     "name": "stderr",
     "output_type": "stream",
     "text": [
      "C:\\Users\\haulmark\\AppData\\Local\\Temp\\ipykernel_24548\\1883591324.py:5: SAWarning: Can't validate argument 'extend_existing'; can't locate any SQLAlchemy dialect named 'extend'\n",
      "  CategoryID = Column(Integer, primary_key=True, autoincrement=True, extend_existing=True)\n",
      "C:\\Users\\haulmark\\AppData\\Local\\Temp\\ipykernel_24548\\1883591324.py:6: SAWarning: Can't validate argument 'extend_existing'; can't locate any SQLAlchemy dialect named 'extend'\n",
      "  CategoryName = Column(String, extend_existing=True)\n"
     ]
    }
   ],
   "source": [
    "# Categories Table\n",
    "class Category(Base):\n",
    "    __tablename__ = 'Categories'\n",
    "    \n",
    "    CategoryID = Column(Integer, primary_key=True, autoincrement=True, extend_existing=True)\n",
    "    CategoryName = Column(String, extend_existing=True)\n",
    "\n",
    "\n",
    "# Users Table\n",
    "class User(Base):\n",
    "    __tablename__ = 'Users'\n",
    "    \n",
    "    UserID = Column(Integer, primary_key=True, autoincrement=True)\n",
    "    FirstName = Column(String)\n",
    "    LastName = Column(String)\n",
    "    Email = Column(String)\n",
    "    JoinDate = Column(Date)\n",
    "\n",
    "# Recipes Table\n",
    "class Recipe(Base):\n",
    "    __tablename__ = 'Recipes'\n",
    "    \n",
    "    RecipeID = Column(Integer, primary_key=True, autoincrement=True)\n",
    "    Title = Column(String)\n",
    "    Description = Column(String)\n",
    "    CookingTime = Column(Integer)\n",
    "    Servings = Column(Integer)\n",
    "    NumberOfSteps = Column(Integer)\n",
    "    SubmittedDate = Column(Date)\n",
    "    NumberOfIngredients = Column(Integer)\n",
    "    ImageURL = Column(String)\n",
    "\n",
    "# Ingredients Table\n",
    "class Ingredient(Base):\n",
    "    __tablename__ = 'Ingredients'\n",
    "    \n",
    "    IngredientsID = Column(Integer, primary_key=True, autoincrement=True)\n",
    "    Ingredients = Column(String, nullable=False)\n",
    "    ServingSize = Column(Integer)\n",
    "    Calories = Column(Integer)\n",
    "    TotalFat = Column(Integer)\n",
    "    SaturatedFat = Column(Integer)\n",
    "    Cholesterol = Column(Integer)\n",
    "    Sodium = Column(Integer)\n",
    "    Carbohydrate = Column(Integer)\n",
    "    Fiber = Column(Integer)\n",
    "    Sugars = Column(Integer)\n",
    "    Protein = Column(Integer)\n",
    "    Fat = Column(Integer)\n",
    "    Caffeine = Column(Integer)\n",
    "    Source = Column(String)\n",
    "    Date = Column(String)\n",
    "    IsAllergen = Column(String)\n",
    "    Food_allergen_ID = Column(Integer)\n",
    "    Food = Column(String)\n",
    "    Food_Class = Column(String)\n",
    "    Food_type = Column(String)\n",
    "    Food_Group = Column(String)\n",
    "    Allergy_Type = Column(String)\n",
    "\n",
    "# Recipe_Ingredients Fact Table\n",
    "class RecipeIngredientsFact(Base):\n",
    "    __tablename__ = 'Recipe_Ingredients_fact_table'\n",
    "    \n",
    "    CompID = Column(Integer, primary_key=True, autoincrement=True)\n",
    "    RecipeID = Column(Integer, ForeignKey('recipes.RecipeID'))\n",
    "    IngredientsID = Column(Integer, ForeignKey('ingredients.IngredientsID'))\n",
    "    Ingredients = Column(String)\n",
    "\n",
    "# Reviews Table\n",
    "class Review(Base):\n",
    "    __tablename__ = 'Reviews'\n",
    "    \n",
    "    ReviewID = Column(Integer, primary_key=True, autoincrement=True)\n",
    "    Rating = Column(Integer)\n",
    "    ReviewText = Column(String)\n",
    "    ReviewDate = Column(Date)\n",
    "    UserID = Column(Integer, ForeignKey('users.UserID'))\n",
    "    RecipeID = Column(Integer, ForeignKey('recipes.RecipeID'))\n",
    "\n",
    "# Recipe_Categories Table\n",
    "class RecipeCategory(Base):\n",
    "    __tablename__ = 'Recipe_Categories'\n",
    "    \n",
    "    CategoryID = Column(Integer, ForeignKey('categories.CategoryID'), primary_key=True)\n",
    "    RecipeID = Column(Integer, ForeignKey('recipes.RecipeID'), primary_key=True)\n",
    "\n",
    "class CategoryRecipeFact(Base):\n",
    "    __tablename__ = 'Category_Recipe_fact_table'\n",
    "    \n",
    "    # Add a unique primary key column\n",
    "    CompID = Column(Integer, primary_key=True, autoincrement=True)\n",
    "    \n",
    "    # Foreign key relationships\n",
    "    CategoryID = Column(Integer, ForeignKey('Categories.CategoryID'))\n",
    "    RecipeID = Column(Integer, ForeignKey('Recipes.RecipeID'))\n",
    "\n",
    "\n",
    "    "
   ]
  },
  {
   "cell_type": "code",
   "execution_count": 4,
   "metadata": {},
   "outputs": [
    {
     "name": "stdout",
     "output_type": "stream",
     "text": [
      "Connected to the existing database.\n"
     ]
    }
   ],
   "source": [
    "# Set up the database connection and session (no need to create tables if they already exist)\n",
    "engine = create_engine('sqlite:///my_recipes.db')\n",
    "\n",
    "# Create a session to interact with the existing database\n",
    "Session = sessionmaker(bind=engine)\n",
    "session = Session()\n",
    "\n",
    "print(\"Connected to the existing database.\")\n"
   ]
  },
  {
   "cell_type": "markdown",
   "metadata": {},
   "source": [
    "\n",
    "**Query 1: Recipe Ingredients Query with Dynamic Input**\n",
    "\n",
    "**Query Purpose**: This query retrieves a list of recipes along with their ingredients based on a user-specified category. It dynamically accepts a category name as input, making it flexible for users to filter results by category. If the category does not exist, it prompts the user with a list of available categories.\n",
    "\n",
    "**Technical Details**:\n",
    "\n",
    "- **Tables Involved**:\n",
    "  - `Recipes`: Holds recipe details.\n",
    "  - `Recipe_Ingredients_fact_table`: Links recipes and ingredients.\n",
    "  - `Ingredients`: Contains ingredient details.\n",
    "  - `Categories`: Contains category information.\n",
    "- **Join Operations**: The query performs a JOIN across multiple tables (`Recipes`, `Recipe_Ingredients_fact_table`, `Ingredients`) to retrieve the relevant data.\n",
    "- **Dynamic Input**: The category is provided dynamically, and error handling ensures that if the category doesn’t exist or has no associated recipes, the user is prompted to try another category.\n",
    "- **Output**: The query returns a list of recipes with their respective ingredients, filtered by the chosen category."
   ]
  },
  {
   "cell_type": "code",
   "execution_count": 12,
   "metadata": {},
   "outputs": [
    {
     "name": "stdout",
     "output_type": "stream",
     "text": [
      "Category 'soup' is not available.\n",
      "Please choose from the following available categories or type 'quit' to exit:\n",
      "Snacks, Soups, Desserts, Main Courses, Breads, Salads, Appetizers, Poultry, Sauces, Seafood, Beverages, Pork, Beef, Lamb, Vegetarian, Pasta, Vegan\n",
      "Attempt 1 of 3. Please try again.\n",
      "Attempt 2 of 3. Please try again.\n",
      "Attempt 3 of 3. Please try again.\n",
      "Too many invalid attempts. Exiting.\n",
      "No valid recipes found or user exited.\n"
     ]
    }
   ],
   "source": [
    "from sqlalchemy import cast, Integer\n",
    "\n",
    "# Function to get recipes by category, limited to 10 results\n",
    "def get_recipes_by_category(category_name):\n",
    "    # Find the category ID based on the category name\n",
    "    category = session.query(Category).filter(Category.CategoryName == category_name).first()\n",
    "\n",
    "    # If the category does not exist, prompt the user to try again\n",
    "    if not category:\n",
    "        available_categories = session.query(Category.CategoryName).all()\n",
    "        available_categories_list = [cat[0] for cat in available_categories]\n",
    "        print(f\"Category '{category_name}' is not available.\")\n",
    "        print(\"Please choose from the following available categories or type 'quit' to exit:\")\n",
    "        print(\", \".join(available_categories_list))\n",
    "        return []\n",
    "\n",
    "    # Return recipes and ingredients, limited to 10 results\n",
    "    return session.query(Recipe, Ingredient).join(\n",
    "        CategoryRecipeFact, Recipe.RecipeID == CategoryRecipeFact.RecipeID\n",
    "    ).join(\n",
    "        RecipeIngredientsFact, cast(RecipeIngredientsFact.CompID, Integer) == RecipeIngredientsFact.RecipeID\n",
    "    ).join(\n",
    "        Ingredient, RecipeIngredientsFact.IngredientsID == Ingredient.IngredientsID\n",
    "    ).filter(CategoryRecipeFact.CategoryID == category.CategoryID).limit(10).all()\n",
    "\n",
    "# Retry logic with a maximum of 3 attempts\n",
    "def get_user_input():\n",
    "    max_attempts = 3\n",
    "    attempts = 0\n",
    "    \n",
    "    while attempts < max_attempts:\n",
    "        category_input = input(\"Enter a category (or type 'quit' to exit): \").strip()\n",
    "        \n",
    "        if category_input.lower() == 'quit':\n",
    "            print(\"Goodbye!\")\n",
    "            return None  # Exit the loop and program\n",
    "        \n",
    "        # Fetch the recipes for the selected category\n",
    "        recipes_with_ingredients = get_recipes_by_category(category_input)\n",
    "        \n",
    "        # If recipes are found, return the list\n",
    "        if recipes_with_ingredients:\n",
    "            return recipes_with_ingredients\n",
    "        \n",
    "        attempts += 1\n",
    "        print(f\"Attempt {attempts} of {max_attempts}. Please try again.\")\n",
    "    \n",
    "    print(\"Too many invalid attempts. Exiting.\")\n",
    "    return None\n",
    "\n",
    "# Main function\n",
    "def main():\n",
    "    recipes_with_ingredients = get_user_input()\n",
    "\n",
    "    # Output the results if we got valid recipes\n",
    "    if recipes_with_ingredients:\n",
    "        for recipe, ingredient in recipes_with_ingredients:\n",
    "            print(f\"Recipe: {recipe.Title}, Ingredient: {ingredient.Ingredients}\")\n",
    "    else:\n",
    "        print(\"No valid recipes found or user exited.\")\n",
    "\n",
    "# Run the program\n",
    "if __name__ == \"__main__\":\n",
    "    main()\n",
    "\n",
    "  \n",
    "\n",
    "\n",
    "\n"
   ]
  },
  {
   "cell_type": "markdown",
   "metadata": {},
   "source": [
    "**Query 2: Reviews Query with Parameterized Input**\n",
    "\n",
    "**Query Purpose**: This query retrieves reviews for a specific recipe, using a parameterized input for recipe ID. This is useful for retrieving all reviews associated with a particular recipe based on user input.\n",
    "\n",
    "**Technical Details**:\n",
    "\n",
    "- **Tables Involved**:\n",
    "  - `Reviews`: Holds reviews with ratings, review text, and associated recipe IDs.\n",
    "  - `Recipes`: Links the reviews to the corresponding recipes.\n",
    "- **Join Operation**: The query performs a JOIN between `Reviews` and `Recipes` using the `RecipeID` to ensure that reviews are linked to the correct recipe.\n",
    "- **Parameterized Input**: The query takes a recipe ID as an input parameter, ensuring that the data retrieved is specific to a particular recipe.\n",
    "- **Output**: The query returns a list of reviews, including ratings and review text, for the specified recipe."
   ]
  },
  {
   "cell_type": "code",
   "execution_count": 1,
   "metadata": {},
   "outputs": [
    {
     "ename": "NameError",
     "evalue": "name 'session' is not defined",
     "output_type": "error",
     "traceback": [
      "\u001b[1;31m---------------------------------------------------------------------------\u001b[0m",
      "\u001b[1;31mNameError\u001b[0m                                 Traceback (most recent call last)",
      "Cell \u001b[1;32mIn[1], line 7\u001b[0m\n\u001b[0;32m      4\u001b[0m     \u001b[38;5;28;01mreturn\u001b[39;00m session\u001b[38;5;241m.\u001b[39mquery(Review)\u001b[38;5;241m.\u001b[39mfilter(Review\u001b[38;5;241m.\u001b[39mRecipeID \u001b[38;5;241m==\u001b[39m recipe_id)\u001b[38;5;241m.\u001b[39mall()\n\u001b[0;32m      6\u001b[0m \u001b[38;5;66;03m# Call the function to find a recipe with reviews\u001b[39;00m\n\u001b[1;32m----> 7\u001b[0m recipe_with_reviews \u001b[38;5;241m=\u001b[39m \u001b[43msession\u001b[49m\u001b[38;5;241m.\u001b[39mquery(Recipe\u001b[38;5;241m.\u001b[39mRecipeID)\u001b[38;5;241m.\u001b[39mselect_from(Recipe)\u001b[38;5;241m.\u001b[39mjoin(Review, Recipe\u001b[38;5;241m.\u001b[39mRecipeID \u001b[38;5;241m==\u001b[39m Review\u001b[38;5;241m.\u001b[39mRecipeID)\u001b[38;5;241m.\u001b[39mfirst()\n\u001b[0;32m      9\u001b[0m \u001b[38;5;66;03m# If a recipe with reviews exists, query its reviews\u001b[39;00m\n\u001b[0;32m     10\u001b[0m \u001b[38;5;28;01mif\u001b[39;00m recipe_with_reviews:\n",
      "\u001b[1;31mNameError\u001b[0m: name 'session' is not defined"
     ]
    }
   ],
   "source": [
    "# Define a function to get reviews for a specific recipe\n",
    "def get_reviews_for_recipe(recipe_id):\n",
    "    # Query the Review table for reviews matching the given RecipeID\n",
    "    return session.query(Review).filter(Review.RecipeID == recipe_id).all()\n",
    "\n",
    "# Call the function to find a recipe with reviews\n",
    "recipe_with_reviews = session.query(Recipe.RecipeID).select_from(Recipe).join(Review, Recipe.RecipeID == Review.RecipeID).first()\n",
    "\n",
    "# If a recipe with reviews exists, query its reviews\n",
    "if recipe_with_reviews:\n",
    "    recipe_id = recipe_with_reviews.RecipeID\n",
    "    reviews = get_reviews_for_recipe(recipe_id)\n",
    "\n",
    "    if reviews:\n",
    "        for review in reviews:\n",
    "            print(f\"Review: {review.ReviewText}, Rating: {review.Rating}\")\n",
    "    else:\n",
    "        print(f\"No reviews found for RecipeID {recipe_id}\")\n",
    "else:\n",
    "    print(\"No recipes with reviews found.\")\n",
    "\n",
    "\n"
   ]
  },
  {
   "cell_type": "markdown",
   "metadata": {},
   "source": [
    "**Query 3 Average Rating Aggregation Query**\n",
    "\n",
    "**Query Purpose**: This query calculates the average rating for each recipe. It provides a summary of how users have rated different recipes, which is useful for understanding overall user satisfaction.\n",
    "\n",
    "**Technical Details**:\n",
    "\n",
    "- **Tables Involved**:\n",
    "  - `Reviews`: Contains the ratings for each recipe.\n",
    "  - `Recipes`: Provides recipe details linked to the reviews.\n",
    "- **Aggregation**: The query uses the SQL `AVG()` function to calculate the average rating of each recipe. This is grouped by the `RecipeID` to ensure that the average is calculated on a per-recipe basis.\n",
    "- **Group By**: The query groups results by `RecipeID`, providing one average rating per recipe.\n",
    "- **Output**: It returns the recipe title and the corresponding average rating, providing a high-level overview of user ratings across recipes."
   ]
  },
  {
   "cell_type": "code",
   "execution_count": 7,
   "metadata": {},
   "outputs": [
    {
     "name": "stdout",
     "output_type": "stream",
     "text": [
      "Recipe: Squash And Kale Risotto, Average Rating: 3.0\n",
      "Recipe: Winter Squash Apple And Walnut Soup, Average Rating: 4.0\n",
      "Recipe: Wonderful Winter Squash Risotto, Average Rating: 5.0\n",
      "Recipe: Steph S Chicken Tortilla Soup, Average Rating: 1.0\n",
      "Recipe: Cumberland Rum Butter, Average Rating: 5.0\n"
     ]
    }
   ],
   "source": [
    "# Query 3 function to get the average rating for each recipe (Aggregated Data)\n",
    "def get_average_rating_per_recipe():\n",
    "    return session.query(Recipe.RecipeID, Recipe.Title, func.avg(Review.Rating).label('average_rating')).join(\n",
    "        Review, Recipe.RecipeID == Review.RecipeID).group_by(Recipe.RecipeID).all()\n",
    "\n",
    "# Query 3 call to get the average rating for each recipe\n",
    "average_ratings = get_average_rating_per_recipe()\n",
    "for recipe_id, title, avg_rating in average_ratings:\n",
    "    print(f\"Recipe: {title}, Average Rating: {avg_rating}\")\n"
   ]
  },
  {
   "cell_type": "markdown",
   "metadata": {},
   "source": [
    "**Query 4 Return Recipes with less than 10 inrgredients**\n",
    "\n",
    "**Query Purpose**: This query recipe titles with less than 10 ingredients\n",
    "\n",
    "**Technical Details**:\n",
    "\n",
    "- **Tables Involved**:\n",
    "  - `Recipes`: Provides recipe details linked to the reviews.\n",
    "\n",
    "- **Output**: It returns the recipe title and the corresponding number of ingredients"
   ]
  },
  {
   "cell_type": "code",
   "execution_count": 15,
   "metadata": {},
   "outputs": [
    {
     "name": "stdout",
     "output_type": "stream",
     "text": [
      "Recipes with fewer than 10 ingredients (showing up to 10):\n",
      "Recipe: Arriba Baked Winter Squash Mexican Style, Ingredients Count: 7, Submitted Date: 9/16/2005\n",
      "Recipe: Futari, Ingredients Count: 8, Submitted Date: 10/10/2005\n",
      "Recipe: Jalapeno Poppers Stuffed With Squash And Feta, Ingredients Count: 6, Submitted Date: 7/28/2003\n",
      "Recipe: Orange Winter Squash Casserole, Ingredients Count: 7, Submitted Date: 11/18/2003\n",
      "Recipe: Wonderful Winter Squash Risotto, Ingredients Count: 7, Submitted Date: 11/28/2003\n",
      "Recipe: Steph S Chicken Tortilla Soup, Ingredients Count: 9, Submitted Date: 10/16/2001\n",
      "Recipe: Cumberland Rum Butter, Ingredients Count: 4, Submitted Date: 3/21/2002\n",
      "Recipe: Eggless Apple Cake, Ingredients Count: 7, Submitted Date: 5/8/2002\n",
      "Recipe: Simplest Cake In The World, Ingredients Count: 5, Submitted Date: 1/3/2003\n",
      "Recipe: I Wanna Live With A Cinnamon Girl Honey, Ingredients Count: 2, Submitted Date: 12/27/2004\n"
     ]
    }
   ],
   "source": [
    "from sqlalchemy import cast, String\n",
    "from datetime import datetime\n",
    "\n",
    "# Function to convert date strings to ISO format (YYYY-MM-DD)\n",
    "def convert_to_iso_date(date_string):\n",
    "    try:\n",
    "        # Try to parse the date in 'MM/DD/YYYY' format\n",
    "        date_object = datetime.strptime(date_string, '%m/%d/%Y')\n",
    "        # Convert it to 'YYYY-MM-DD' format\n",
    "        return date_object.strftime('%Y-%m-%d')\n",
    "    except ValueError:\n",
    "        # If parsing fails, return the original string\n",
    "        return date_string\n",
    "\n",
    "# Function to get recipes with less than 10 ingredients, limited to 10 results\n",
    "def get_recipes_with_few_ingredients():\n",
    "    # Query to return recipes where the number of ingredients is less than 10, limited to 10\n",
    "    recipes = session.query(\n",
    "        Recipe.RecipeID, Recipe.Title, Recipe.NumberOfIngredients, \n",
    "        cast(Recipe.SubmittedDate, String)  # Ensure date is treated as a string\n",
    "    ).filter(Recipe.NumberOfIngredients < 10).limit(10).all()\n",
    "    \n",
    "    # Manually convert the date format for each recipe\n",
    "    for recipe in recipes:\n",
    "        recipe_date = recipe[3]  # Get the SubmittedDate from the tuple\n",
    "        formatted_date = convert_to_iso_date(recipe_date)\n",
    "        recipe = recipe[:3] + (formatted_date,)  # Update the tuple with formatted date\n",
    "    \n",
    "    return recipes\n",
    "\n",
    "# Function to display the recipes\n",
    "def display_recipes_with_few_ingredients():\n",
    "    recipes = get_recipes_with_few_ingredients()\n",
    "    \n",
    "    if recipes:\n",
    "        print(f\"Recipes with fewer than 10 ingredients (showing up to 10):\")\n",
    "        for recipe in recipes:\n",
    "            print(f\"Recipe: {recipe[1]}, Ingredients Count: {recipe[2]}, Submitted Date: {recipe[3]}\")\n",
    "    else:\n",
    "        print(\"No recipes found with fewer than 10 ingredients.\")\n",
    "\n",
    "# Call the function to display the recipes\n",
    "display_recipes_with_few_ingredients()\n"
   ]
  }
 ],
 "metadata": {
  "kernelspec": {
   "display_name": "Python 3",
   "language": "python",
   "name": "python3"
  },
  "language_info": {
   "codemirror_mode": {
    "name": "ipython",
    "version": 3
   },
   "file_extension": ".py",
   "mimetype": "text/x-python",
   "name": "python",
   "nbconvert_exporter": "python",
   "pygments_lexer": "ipython3",
   "version": "3.11.9"
  }
 },
 "nbformat": 4,
 "nbformat_minor": 2
}
