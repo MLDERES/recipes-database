{
 "cells": [
  {
   "cell_type": "code",
   "execution_count": 33,
   "metadata": {},
   "outputs": [],
   "source": [
    "import sqlite3\n",
    "from pathlib import Path\n",
    "import pandas as pd\n",
    "\n",
    "def get_recipe_instructions(db_file):\n",
    "\n",
    "    # Ensure the path points to your actual database location\n",
    "    db_file = Path(\"C:/Users/JBAFNLE3/OneDrive - J.B. Hunt Transport/Documents/GitHub/recipes-database/my_recipes.db\")\n",
    "\n",
    "    # Make a connection to the database\n",
    "    cnn = sqlite3.connect(db_file)\n",
    "\n",
    "    # Next make a cursor that can be used to run a query on the new connection\n",
    "    cur = cnn.cursor()\n",
    "\n",
    "    # See what tables are available in the database\n",
    "    cur.execute(\"SELECT name FROM sqlite_master WHERE type='table';\")\n",
    "    tables = cur.fetchall()\n",
    "    print(\"Tables in the database:\", tables)\n",
    "\n",
    "    # get the first 10 records from the sales table\n",
    "    Query1 = pd.read_sql_query('''\n",
    "                            SELECT I.StepCount,\n",
    "                            I.Instructions\n",
    "                            FROM Instructions I\n",
    "                            LEFT JOIN Recipes R on I.RecipeID = R.RecipeID\n",
    "                            WHERE R.Title = \"Apple Honey Pie\"                          \n",
    "                            ''', cnn)"
   ]
  }
 ],
 "metadata": {
  "kernelspec": {
   "display_name": "Python 3",
   "language": "python",
   "name": "python3"
  },
  "language_info": {
   "codemirror_mode": {
    "name": "ipython",
    "version": 3
   },
   "file_extension": ".py",
   "mimetype": "text/x-python",
   "name": "python",
   "nbconvert_exporter": "python",
   "pygments_lexer": "ipython3",
   "version": "3.11.9"
  }
 },
 "nbformat": 4,
 "nbformat_minor": 2
}
