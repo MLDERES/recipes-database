{
 "cells": [
  {
   "cell_type": "markdown",
   "metadata": {},
   "source": [
    "Query #1 - Includes 2 or More Tables via a Join"
   ]
  },
  {
   "cell_type": "code",
   "execution_count": 2,
   "metadata": {},
   "outputs": [
    {
     "name": "stdout",
     "output_type": "stream",
     "text": [
      "  StepCount                                       Instructions\n",
      "0     Step1                 Spread apple slices over pie shell\n",
      "1     Step2  Combine eggs , yogurt , cinnamon , salt and ho...\n",
      "2     Step3           Pour the custard mixture over the spples\n",
      "3     Step4                              Sprinkle with walnuts\n",
      "4     Step5                      Bake 45 minutes at 375 degree\n",
      "5     Step6              Cool to room tempeture before cutting\n"
     ]
    }
   ],
   "source": [
    "import sqlite3\n",
    "import pandas as pd\n",
    "\n",
    "# Connect to the SQLite database (this will create the file 'my_recipes.db')\n",
    "connection = sqlite3.connect('my_recipes.db')\n",
    "\n",
    "# Create a cursor object to execute SQL commands\n",
    "cursor = connection.cursor()\n",
    "\n",
    "data = pd.read_sql_query('''\n",
    "                         SELECT I.StepCount,\n",
    "                         I.Instructions\n",
    "                         FROM Instructions I\n",
    "                         LEFT JOIN Recipes R on I.RecipeID = R.RecipeID\n",
    "                         WHERE R.Title = \"Apple Honey Pie\"                          \n",
    "                         ''', connection)\n",
    "\n",
    "print(data)\n",
    "\n",
    "connection.close()"
   ]
  },
  {
   "cell_type": "markdown",
   "metadata": {},
   "source": [
    "Query #2 - Parameterized Query"
   ]
  },
  {
   "cell_type": "code",
   "execution_count": null,
   "metadata": {},
   "outputs": [],
   "source": []
  }
 ],
 "metadata": {
  "kernelspec": {
   "display_name": "Python 3",
   "language": "python",
   "name": "python3"
  },
  "language_info": {
   "codemirror_mode": {
    "name": "ipython",
    "version": 3
   },
   "file_extension": ".py",
   "mimetype": "text/x-python",
   "name": "python",
   "nbconvert_exporter": "python",
   "pygments_lexer": "ipython3",
   "version": "3.11.9"
  }
 },
 "nbformat": 4,
 "nbformat_minor": 2
}
